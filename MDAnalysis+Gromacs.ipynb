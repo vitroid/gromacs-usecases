{
  "nbformat": 4,
  "nbformat_minor": 0,
  "metadata": {
    "colab": {
      "provenance": [],
      "authorship_tag": "ABX9TyMwYxOQSWxrFphNpmpPQpUF",
      "include_colab_link": true
    },
    "kernelspec": {
      "name": "python3",
      "display_name": "Python 3"
    },
    "language_info": {
      "name": "python"
    }
  },
  "cells": [
    {
      "cell_type": "markdown",
      "metadata": {
        "id": "view-in-github",
        "colab_type": "text"
      },
      "source": [
        "<a href=\"https://colab.research.google.com/github/vitroid/gromacs-usecases/blob/main/MDAnalysis%2BGromacs.ipynb\" target=\"_parent\"><img src=\"https://colab.research.google.com/assets/colab-badge.svg\" alt=\"Open In Colab\"/></a>"
      ]
    },
    {
      "cell_type": "markdown",
      "source": [
        "Google Colabには標準でMDAnalysisはインストールされていないので各自でインストールする。"
      ],
      "metadata": {
        "id": "D2Ioo9kLiMOF"
      }
    },
    {
      "cell_type": "code",
      "source": [
        "pip install mdanalysis"
      ],
      "metadata": {
        "id": "1Kb7dX1hhuvr"
      },
      "execution_count": null,
      "outputs": []
    },
    {
      "cell_type": "markdown",
      "source": [
        "デモ用に、氷の構造をGenIceで生成する。"
      ],
      "metadata": {
        "id": "a38NULNJlS02"
      }
    },
    {
      "cell_type": "code",
      "source": [
        "! pip install genice2\n",
        "! genice2 CS1 -r 2 2 2 > cs1.gro"
      ],
      "metadata": {
        "id": "WDpMhoOtlXEN"
      },
      "execution_count": null,
      "outputs": []
    },
    {
      "cell_type": "markdown",
      "source": [
        "さて、さっそくgroを読みこませてみる。やっぱり`.top`は読んでくれないので、`.gro`だけ読む。"
      ],
      "metadata": {
        "id": "Hy-be0-Hibj5"
      }
    },
    {
      "cell_type": "code",
      "execution_count": null,
      "metadata": {
        "id": "cz45Knh5hfth"
      },
      "outputs": [],
      "source": [
        "import MDAnalysis as mda\n",
        "\n",
        "universe = mda.Universe(\"cs1.gro\")\n",
        "print(universe)"
      ]
    },
    {
      "cell_type": "markdown",
      "source": [
        "読めました。\n",
        "\n",
        "yaplotに変換するコードを書いてみよう。"
      ],
      "metadata": {
        "id": "Cp-9VM3biiZ-"
      }
    },
    {
      "cell_type": "code",
      "source": [
        "%pip install yaplotlib"
      ],
      "metadata": {
        "id": "kt4yRUH6h-Fn"
      },
      "execution_count": null,
      "outputs": []
    },
    {
      "cell_type": "code",
      "source": [
        "import MDAnalysis as mda\n",
        "import yaplotlib as yap\n",
        "\n",
        "def main():\n",
        "    u = mda.Universe(\"cs1.gro\") # 事前にopenしなくてもファイル名だけでいい。\n",
        "    for residue in u.residues:\n",
        "        if residue.resname[:3] == \"SOL\":\n",
        "            C = None\n",
        "            for atom in residue.atoms:\n",
        "                if atom.name == \"O\":\n",
        "                    O = u.atoms.positions[atom.index]\n",
        "                elif atom.name == \"H\":\n",
        "                    print(yap.Line(u.atoms.positions[atom.index], O), end=\"\")\n",
        "\n",
        "main()"
      ],
      "metadata": {
        "id": "MFEFd1smiogF"
      },
      "execution_count": null,
      "outputs": []
    },
    {
      "cell_type": "markdown",
      "source": [
        "Profilerで実行時間を測る。"
      ],
      "metadata": {
        "id": "h7MgusqbjuIy"
      }
    },
    {
      "cell_type": "code",
      "source": [
        "import profile\n",
        "\n",
        "profile.run('main()')"
      ],
      "metadata": {
        "id": "rMHOZAWji4vQ"
      },
      "execution_count": null,
      "outputs": []
    },
    {
      "cell_type": "markdown",
      "source": [
        "ざっくりと、水のケージ解析を書いてみよう。"
      ],
      "metadata": {
        "id": "-M1yj8iUj-0v"
      }
    },
    {
      "cell_type": "code",
      "source": [
        "%pip install cycless pairlist"
      ],
      "metadata": {
        "id": "u0DX8F58jw7-"
      },
      "execution_count": null,
      "outputs": []
    },
    {
      "cell_type": "code",
      "source": [
        "import MDAnalysis as mda\n",
        "from cycless.cycles import cycles_iter\n",
        "from cycless.polyhed import polyhedra_iter\n",
        "import pairlist\n",
        "import numpy as np\n",
        "import networkx as nx\n",
        "\n",
        "def water_HB_digraph(waters, cellmat):\n",
        "    dg = nx.DiGraph()\n",
        "    celli   = np.linalg.inv(cellmat)\n",
        "    H = np.array([u.atoms.positions[atom.index] for water in waters for atom in water.atoms if atom.name == \"H\"], dtype=float)\n",
        "    O = np.array([u.atoms.positions[atom.index] for water in waters for atom in water.atoms if atom.name == \"O\"], dtype=float)\n",
        "    # In a fractional coordinate\n",
        "    rH = H @ celli\n",
        "    rO = O @ celli\n",
        "    # O-H distance is closer than 2.45 AA\n",
        "    # Matsumoto JCP 2007 https://doi.org/10.1063/1.2431168\n",
        "    for i,j,d in pairlist.pairs_iter(rH, 2.45, cellmat, pos2=rO):\n",
        "        # but distance is greater than 1 AA (i.e. O and H are not in the same molecule)\n",
        "        if 1 < d:\n",
        "            # label of the molecule where Hydrogen i belongs.\n",
        "            imol = i // 2\n",
        "            # H to O vector\n",
        "            # vec attribute is useful when you use cycless.dicycles.\n",
        "            dg.add_edge(imol, j, vec=rO[j] - rH[i])\n",
        "    return dg, rO\n",
        "\n",
        "\n",
        "# Unfortunately, MDAnalysis does not read the concatenated gro file.\n",
        "# https://docs.mdanalysis.org/stable/documentation_pages/coordinates/GRO.html\n",
        "traj = open(\"cs1.gro\")\n",
        "\n",
        "u = mda.Universe(traj)\n",
        "# cell dimension a,b,c,A,B,G\n",
        "# Note: length unit of MDAnalysis is AA, not nm.\n",
        "dimen   = u.trajectory.ts.dimensions\n",
        "# cell matrix (might be transposed)\n",
        "cellmat = mda.lib.mdamath.triclinic_vectors(dimen)\n",
        "# Pick up water molecules only\n",
        "waters = [residue for residue in u.residues if residue.resname[:3] == \"SOL\"]\n",
        "\n",
        "# make a graph of hydrogen bonds and fractional coordinate of its vertices\n",
        "dg, rO = water_HB_digraph(waters, cellmat)\n",
        "# undirected graph\n",
        "g = nx.Graph(dg)\n",
        "# detect the pentagons and hexagons.\n",
        "cycles = [cycle for cycle in cycles_iter(g, maxsize=6, pos=rO) if len(cycle) > 4]\n",
        "# detect the cages with number of faces between 12 and 16.\n",
        "cages  = [cage for cage in polyhedra_iter(cycles, maxnfaces=16) if len(cage) > 11]\n",
        "for cage in cages:\n",
        "    print(len(cage), cage)"
      ],
      "metadata": {
        "id": "MFmuMO6SkGKe"
      },
      "execution_count": null,
      "outputs": []
    },
    {
      "cell_type": "markdown",
      "source": [
        "こういう解析をするなら特段便利でもない。でも、MDAnalysisで使えるようにコードを作っておくと、他人と共有する時に手間が減ると思われる。"
      ],
      "metadata": {
        "id": "vgFt_aIWks2z"
      }
    },
    {
      "cell_type": "markdown",
      "source": [
        "ここでは1フレームのみのgroファイルを読んだが、複数のフレームが含まれている時はこの書き方では最初のフレームしか読まない。MDAnalysisは、複数のフレームが含まれるgroファイルを読む機能がない。https://docs.mdanalysis.org/stable/documentation_pages/coordinates/GRO.html\n",
        "\n",
        "複数のフレームを連続的に読みこむためのハックはこちら。"
      ],
      "metadata": {
        "id": "XGilf4C9kwmV"
      }
    },
    {
      "cell_type": "code",
      "source": [
        "import MDAnalysis as mda\n",
        "import io\n",
        "\n",
        "\n",
        "def gro_iter(file):\n",
        "    \"\"\".groファイルに含まれる複数の座標セットを、別々のファイルとして提供する。\n",
        "\n",
        "    Args:\n",
        "        file (file handle): file handle of a .gro file containing multiple frames.\n",
        "    \"\"\"\n",
        "    s = []\n",
        "    Natom = -99\n",
        "    for line in file:\n",
        "        s.append(line)\n",
        "        if len(s) == 2:\n",
        "            Natom = int(line)\n",
        "        elif len(s) == Natom+3:\n",
        "            yield io.StringIO(\"\".join(s))\n",
        "            s = []\n",
        "            Natom = -99\n",
        "\n",
        "\n",
        "with open(\"trajectory.gro\") as f:\n",
        "    for file in gro_iter(f):\n",
        "        u = mda.Universe(file, format=\"GRO\")\n",
        "        # ..."
      ],
      "metadata": {
        "id": "2moTLRhlkQmv"
      },
      "execution_count": null,
      "outputs": []
    },
    {
      "cell_type": "markdown",
      "source": [
        "書きだすほうはもっと不便で、MDAnalysisのWriterはファイル名指定による出力しかできないので、書き方を自分で制御できない。例えば、文字列に結果を入れたり、file handleを使ってstdoutに書きだしたりすることもままならない。このあたりはセンスが悪い。"
      ],
      "metadata": {
        "id": "df1-sCHIs2La"
      }
    },
    {
      "cell_type": "markdown",
      "source": [
        "もうちょっと直接的にMDAnalysisを使う方法は? 例えば動径分布関数(RDF)ぐらいはすぐ出せるだろうか。\n"
      ],
      "metadata": {
        "id": "2skp94qnmRTf"
      }
    },
    {
      "cell_type": "code",
      "source": [
        "import MDAnalysis as mda\n",
        "import MDAnalysis.analysis.rdf as RDF\n",
        "from matplotlib import pyplot as plt\n",
        "\n",
        "u = mda.Universe(\"cs1.gro\")\n",
        "\n",
        "# Select carbons\n",
        "# https://docs.mdanalysis.org/stable/documentation_pages/selections.html\n",
        "O = u.select_atoms(\"resname SOL and name O\")\n",
        "\n",
        "# Make RDF class\n",
        "# https://docs.mdanalysis.org/stable/documentation_pages/analysis/rdf.html\n",
        "rdf = RDF.InterRDF(O, O)\n",
        "rdf.run()\n",
        "\n",
        "fig = plt.figure()\n",
        "plt.ylim(0,3)\n",
        "plt.xlim(1, 15)\n",
        "plt.plot(rdf.bins, rdf.rdf)\n",
        "fig.savefig(\"OO.pdf\")"
      ],
      "metadata": {
        "id": "HtFlNo0jmZCg"
      },
      "execution_count": null,
      "outputs": []
    },
    {
      "cell_type": "markdown",
      "source": [
        "py3DMolを使い、Colab上で作画してみる。"
      ],
      "metadata": {
        "id": "Mn9VSXlFmybh"
      }
    },
    {
      "cell_type": "code",
      "source": [
        "%pip install py3Dmol"
      ],
      "metadata": {
        "id": "jN7x575xnR6e"
      },
      "execution_count": null,
      "outputs": []
    },
    {
      "cell_type": "code",
      "source": [
        "import MDAnalysis as mda\n",
        "import pairlist\n",
        "import numpy as np\n",
        "import networkx as nx\n",
        "\n",
        "def water_HB_digraph(waters, cellmat):\n",
        "    dg = nx.DiGraph()\n",
        "    celli   = np.linalg.inv(cellmat)\n",
        "    H = np.array([u.atoms.positions[atom.index] for water in waters for atom in water.atoms if atom.name == \"H\"], dtype=float)\n",
        "    O = np.array([u.atoms.positions[atom.index] for water in waters for atom in water.atoms if atom.name == \"O\"], dtype=float)\n",
        "    # In a fractional coordinate\n",
        "    rH = H @ celli\n",
        "    rO = O @ celli\n",
        "    # O-H distance is closer than 2.45 AA\n",
        "    # Matsumoto JCP 2007 https://doi.org/10.1063/1.2431168\n",
        "    for i,j,d in pairlist.pairs_iter(rH, 2.45, cellmat, pos2=rO):\n",
        "        # but distance is greater than 1 AA (i.e. O and H are not in the same molecule)\n",
        "        if 1 < d:\n",
        "            # label of the molecule where Hydrogen i belongs.\n",
        "            imol = i // 2\n",
        "            # H to O vector\n",
        "            # vec attribute is useful when you use cycless.dicycles.\n",
        "            dg.add_edge(imol, j, vec=rO[j] - rH[i])\n",
        "    return dg, rO\n",
        "\n",
        "\n",
        "# Unfortunately, MDAnalysis does not read the concatenated gro file.\n",
        "# https://docs.mdanalysis.org/stable/documentation_pages/coordinates/GRO.html\n",
        "traj = open(\"cs1.gro\")\n",
        "\n",
        "u = mda.Universe(traj)\n",
        "# cell dimension a,b,c,A,B,G\n",
        "# Note: length unit of MDAnalysis is AA, not nm.\n",
        "dimen   = u.trajectory.ts.dimensions\n",
        "# cell matrix (might be transposed)\n",
        "cellmat = mda.lib.mdamath.triclinic_vectors(dimen)\n",
        "# Pick up water molecules only\n",
        "waters = [residue for residue in u.residues if residue.resname[:3] == \"SOL\"]\n",
        "\n",
        "# make a graph of hydrogen bonds and fractional coordinate of its vertices\n",
        "dg, rO = water_HB_digraph(waters, cellmat)\n",
        "\n",
        "# centering\n",
        "rO -= 0.5"
      ],
      "metadata": {
        "id": "5xDQ_hrNmkHN"
      },
      "execution_count": null,
      "outputs": []
    },
    {
      "cell_type": "code",
      "source": [
        "\n",
        "import py3Dmol\n",
        "\n",
        "def a2v3(a, labels=\"xyz\"):\n",
        "    return dict(zip(labels,a))\n",
        "\n",
        "def Line(view,a,b,width=1.0):\n",
        "    # https://3dmol.csb.pitt.edu/doc/$3Dmol.GLShape.html#addLine\n",
        "    view.addLine({\"start\": a2v3(a),\n",
        "                         \"end\":   a2v3(b),\n",
        "                    # \"color\":\"cyan\",\n",
        "                    })\n",
        "\n",
        "def drawEdges(view, dg, rO, cellmat):\n",
        "    for i,j in dg.edges():\n",
        "        d = rO[j] - rO[i]\n",
        "        d -= np.floor(d+0.5)\n",
        "        a = rO[i] @ cellmat\n",
        "        b = (rO[i]+d) @ cellmat\n",
        "        Line(view, a, b)\n",
        "\n",
        "view = py3Dmol.view()\n",
        "drawEdges(view, dg, rO, cellmat)\n",
        "view\n",
        ""
      ],
      "metadata": {
        "id": "hvFzryLAnLcv"
      },
      "execution_count": null,
      "outputs": []
    },
    {
      "cell_type": "code",
      "source": [],
      "metadata": {
        "id": "vRjziFbGnP64"
      },
      "execution_count": null,
      "outputs": []
    }
  ]
}